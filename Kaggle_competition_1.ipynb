{
 "cells": [
  {
   "cell_type": "code",
   "execution_count": 2,
   "id": "612029a3",
   "metadata": {},
   "outputs": [
    {
     "name": "stdout",
     "output_type": "stream",
     "text": [
      "Hi kaggle!\n"
     ]
    }
   ],
   "source": [
    "print(\"Hi kaggle!\")"
   ]
  },
  {
   "cell_type": "code",
   "execution_count": 11,
   "id": "ee47321d",
   "metadata": {},
   "outputs": [],
   "source": [
    "import numpy as np\n",
    "import sklearn as skl\n",
    "import seaborn as sns\n",
    "import pandas as pd\n",
    "from sklearn.datasets import load_iris\n"
   ]
  },
  {
   "cell_type": "code",
   "execution_count": 4,
   "id": "92b7b9e5",
   "metadata": {},
   "outputs": [
    {
     "name": "stdout",
     "output_type": "stream",
     "text": [
      "i choose linear regession\n"
     ]
    }
   ],
   "source": [
    "print(\"i choose linear regession\")"
   ]
  },
  {
   "cell_type": "code",
   "execution_count": 7,
   "id": "cf238657",
   "metadata": {},
   "outputs": [],
   "source": [
    "from sklearn.linear_model import LinearRegression\n",
    "linreg = LinearRegression()\n"
   ]
  },
  {
   "cell_type": "code",
   "execution_count": 17,
   "id": "32c29e6b",
   "metadata": {},
   "outputs": [
    {
     "ename": "NameError",
     "evalue": "name 'iris' is not defined",
     "output_type": "error",
     "traceback": [
      "\u001b[1;31m---------------------------------------------------------------------------\u001b[0m",
      "\u001b[1;31mNameError\u001b[0m                                 Traceback (most recent call last)",
      "\u001b[1;32m~\\AppData\\Local\\Temp/ipykernel_15816/3043969699.py\u001b[0m in \u001b[0;36m<module>\u001b[1;34m\u001b[0m\n\u001b[1;32m----> 1\u001b[1;33m data1 = pd.DataFrame(data= np.c_[iris['data'], iris['target']],\n\u001b[0m\u001b[0;32m      2\u001b[0m                      columns= iris['feature_names'] + ['target'])\n",
      "\u001b[1;31mNameError\u001b[0m: name 'iris' is not defined"
     ]
    }
   ],
   "source": [
    "data1 = pd.DataFrame(data= np.c_[iris['data'], iris['target']],\n",
    "                     columns= iris['feature_names'] + ['target'])"
   ]
  },
  {
   "cell_type": "code",
   "execution_count": null,
   "id": "a391674d",
   "metadata": {},
   "outputs": [],
   "source": [
    "print(\"Finished job\")"
   ]
  },
  {
   "cell_type": "code",
   "execution_count": null,
   "id": "02183c36",
   "metadata": {},
   "outputs": [],
   "source": [
    "print(\"i choose svm\")"
   ]
  },
  {
   "cell_type": "code",
   "execution_count": null,
   "id": "0ebd072c",
   "metadata": {},
   "outputs": [],
   "source": [
    "from sklearn.svm import LinearSVC\n"
   ]
  }
 ],
 "metadata": {
  "kernelspec": {
   "display_name": "Python 3 (ipykernel)",
   "language": "python",
   "name": "python3"
  },
  "language_info": {
   "codemirror_mode": {
    "name": "ipython",
    "version": 3
   },
   "file_extension": ".py",
   "mimetype": "text/x-python",
   "name": "python",
   "nbconvert_exporter": "python",
   "pygments_lexer": "ipython3",
   "version": "3.9.13"
  }
 },
 "nbformat": 4,
 "nbformat_minor": 5
}
