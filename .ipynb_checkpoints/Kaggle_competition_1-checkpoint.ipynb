{
 "cells": [
  {
   "cell_type": "code",
   "execution_count": null,
   "id": "108b4d92",
   "metadata": {},
   "outputs": [],
   "source": [
    "print(\"Hi kaggle!\")"
   ]
  },
  {
   "cell_type": "code",
   "execution_count": null,
   "id": "e26e0dbe",
   "metadata": {},
   "outputs": [],
   "source": [
    "import numpy as np\n",
    "import sklearn as skl\n",
    "import seaborn as sns"
   ]
  },
  {
   "cell_type": "code",
   "execution_count": null,
   "id": "02183c36",
   "metadata": {},
   "outputs": [],
   "source": [
    "print(\"i choose svm\")"
   ]
  },
  {
   "cell_type": "code",
   "execution_count": null,
   "id": "0ebd072c",
   "metadata": {},
   "outputs": [],
   "source": [
    "from sklearn.svm import LinearSVC\n"
   ]
  }
 ],
 "metadata": {
  "kernelspec": {
   "display_name": "Python 3 (ipykernel)",
   "language": "python",
   "name": "python3"
  },
  "language_info": {
   "codemirror_mode": {
    "name": "ipython",
    "version": 3
   },
   "file_extension": ".py",
   "mimetype": "text/x-python",
   "name": "python",
   "nbconvert_exporter": "python",
   "pygments_lexer": "ipython3",
   "version": "3.9.13"
  }
 },
 "nbformat": 4,
 "nbformat_minor": 5
}
